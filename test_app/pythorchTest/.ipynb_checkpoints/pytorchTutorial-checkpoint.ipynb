{
 "cells": [
  {
   "cell_type": "code",
   "execution_count": 30,
   "metadata": {},
   "outputs": [],
   "source": [
    "import torch\n",
    "from torch import nn\n",
    "\n",
    "class TestModule(nn.Module):\n",
    "    def __init__(self):\n",
    "        super(TestModule, self).__init__();\n",
    "#         self.param = nn.Parameter(torch.ones(4));\n",
    "        self.param = nn.Linear(4,1);\n",
    "        self.param.weight.data.fill_(1);\n",
    "        self.param.bias.data.fill_(0);\n",
    "        \n",
    "        self.other_param = nn.Sequential(nn.Linear(4,4), nn.ReLU(), nn.Linear(4,1))\n",
    "        \n",
    "    def forward(self, inp):\n",
    "        return self.other_param(inp);\n",
    "    \n",
    "    "
   ]
  },
  {
   "cell_type": "code",
   "execution_count": 31,
   "metadata": {},
   "outputs": [
    {
     "name": "stdout",
     "output_type": "stream",
     "text": [
      "tensor([0.5729], grad_fn=<ThAddBackward>)\n",
      "tensor([[0.5729],\n",
      "        [0.9083]], grad_fn=<ThAddmmBackward>)\n"
     ]
    }
   ],
   "source": [
    "model = TestModule()\n",
    "list(model.parameters())\n",
    "\n",
    "inp = torch.FloatTensor([1,2,3,4]);\n",
    "obj = model(inp);\n",
    "print(obj)\n",
    "# obj.backward();\n",
    "# model.param.grad;\n",
    "\n",
    "inp = torch.FloatTensor([[1,2,3,4], [4,5,6,7]])\n",
    "obj = model(inp)\n",
    "print(obj)"
   ]
  },
  {
   "cell_type": "code",
   "execution_count": null,
   "metadata": {},
   "outputs": [],
   "source": []
  },
  {
   "cell_type": "code",
   "execution_count": null,
   "metadata": {},
   "outputs": [],
   "source": []
  }
 ],
 "metadata": {
  "kernelspec": {
   "display_name": "Python 3",
   "language": "python",
   "name": "python3"
  },
  "language_info": {
   "codemirror_mode": {
    "name": "ipython",
    "version": 3
   },
   "file_extension": ".py",
   "mimetype": "text/x-python",
   "name": "python",
   "nbconvert_exporter": "python",
   "pygments_lexer": "ipython3",
   "version": "3.6.3"
  }
 },
 "nbformat": 4,
 "nbformat_minor": 2
}
